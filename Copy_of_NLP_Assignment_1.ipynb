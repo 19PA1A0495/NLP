{
  "nbformat": 4,
  "nbformat_minor": 0,
  "metadata": {
    "colab": {
      "name": "Copy of NLP Assignment 1.ipynb",
      "provenance": [],
      "collapsed_sections": [],
      "include_colab_link": true
    },
    "kernelspec": {
      "name": "python3",
      "display_name": "Python 3"
    }
  },
  "cells": [
    {
      "cell_type": "markdown",
      "metadata": {
        "id": "view-in-github",
        "colab_type": "text"
      },
      "source": [
        "<a href=\"https://colab.research.google.com/github/19PA1A0495/NLP/blob/master/Copy_of_NLP_Assignment_1.ipynb\" target=\"_parent\"><img src=\"https://colab.research.google.com/assets/colab-badge.svg\" alt=\"Open In Colab\"/></a>"
      ]
    },
    {
      "cell_type": "markdown",
      "metadata": {
        "id": "wXM1P_NKpsbd",
        "colab_type": "text"
      },
      "source": [
        "# NLP Assignment\n",
        "In this assignment you will learn to do some data cleaning, prepare your features and do some K Means clustering on the data.\n",
        "\n",
        "[Download data from here](https://drive.google.com/open?id=1ozz0zITDG8wOSQtwop2NC7AM_T3O59nj)\n",
        "\n",
        "Load it as a pandas dataframe\n"
      ]
    },
    {
      "cell_type": "code",
      "metadata": {
        "id": "wl3ScdoUpQUp",
        "colab_type": "code",
        "outputId": "78d060b4-ca80-489b-92e9-7f1d5c76c7f8",
        "colab": {
          "base_uri": "https://localhost:8080/",
          "height": 1000
        }
      },
      "source": [
        "# Your code here\n",
        "import pandas as pd\n",
        "import numpy as np\n",
        "data=pd.read_csv(\"amazon_co-ecommerce_sample.csv\")\n",
        "data\n",
        "\n"
      ],
      "execution_count": 0,
      "outputs": [
        {
          "output_type": "execute_result",
          "data": {
            "text/html": [
              "<div>\n",
              "<style scoped>\n",
              "    .dataframe tbody tr th:only-of-type {\n",
              "        vertical-align: middle;\n",
              "    }\n",
              "\n",
              "    .dataframe tbody tr th {\n",
              "        vertical-align: top;\n",
              "    }\n",
              "\n",
              "    .dataframe thead th {\n",
              "        text-align: right;\n",
              "    }\n",
              "</style>\n",
              "<table border=\"1\" class=\"dataframe\">\n",
              "  <thead>\n",
              "    <tr style=\"text-align: right;\">\n",
              "      <th></th>\n",
              "      <th>uniq_id</th>\n",
              "      <th>product_name</th>\n",
              "      <th>manufacturer</th>\n",
              "      <th>price</th>\n",
              "      <th>number_available_in_stock</th>\n",
              "      <th>number_of_reviews</th>\n",
              "      <th>number_of_answered_questions</th>\n",
              "      <th>average_review_rating</th>\n",
              "      <th>amazon_category_and_sub_category</th>\n",
              "      <th>customers_who_bought_this_item_also_bought</th>\n",
              "      <th>description</th>\n",
              "      <th>product_information</th>\n",
              "      <th>product_description</th>\n",
              "      <th>items_customers_buy_after_viewing_this_item</th>\n",
              "      <th>customer_questions_and_answers</th>\n",
              "      <th>customer_reviews</th>\n",
              "      <th>sellers</th>\n",
              "    </tr>\n",
              "  </thead>\n",
              "  <tbody>\n",
              "    <tr>\n",
              "      <th>0</th>\n",
              "      <td>eac7efa5dbd3d667f26eb3d3ab504464</td>\n",
              "      <td>Hornby 2014 Catalogue</td>\n",
              "      <td>Hornby</td>\n",
              "      <td>£3.42</td>\n",
              "      <td>5 new</td>\n",
              "      <td>15</td>\n",
              "      <td>1.0</td>\n",
              "      <td>4.9 out of 5 stars</td>\n",
              "      <td>Hobbies &gt; Model Trains &amp; Railway Sets &gt; Rail V...</td>\n",
              "      <td>http://www.amazon.co.uk/Hornby-R8150-Catalogue...</td>\n",
              "      <td>Product Description Hornby 2014 Catalogue Box ...</td>\n",
              "      <td>Technical Details Item Weight640 g Product Dim...</td>\n",
              "      <td>Product Description Hornby 2014 Catalogue Box ...</td>\n",
              "      <td>http://www.amazon.co.uk/Hornby-R8150-Catalogue...</td>\n",
              "      <td>Does this catalogue detail all the previous Ho...</td>\n",
              "      <td>Worth Buying For The Pictures Alone (As Ever) ...</td>\n",
              "      <td>{\"seller\"=&gt;[{\"Seller_name_1\"=&gt;\"Amazon.co.uk\", ...</td>\n",
              "    </tr>\n",
              "    <tr>\n",
              "      <th>1</th>\n",
              "      <td>b17540ef7e86e461d37f3ae58b7b72ac</td>\n",
              "      <td>FunkyBuys® Large Christmas Holiday Express Fes...</td>\n",
              "      <td>FunkyBuys</td>\n",
              "      <td>£16.99</td>\n",
              "      <td>NaN</td>\n",
              "      <td>2</td>\n",
              "      <td>1.0</td>\n",
              "      <td>4.5 out of 5 stars</td>\n",
              "      <td>Hobbies &gt; Model Trains &amp; Railway Sets &gt; Rail V...</td>\n",
              "      <td>http://www.amazon.co.uk/Christmas-Holiday-Expr...</td>\n",
              "      <td>Size Name:Large FunkyBuys® Large Christmas Hol...</td>\n",
              "      <td>Technical Details Manufacturer recommended age...</td>\n",
              "      <td>Size Name:Large FunkyBuys® Large Christmas Hol...</td>\n",
              "      <td>http://www.amazon.co.uk/Christmas-Holiday-Expr...</td>\n",
              "      <td>can you turn off sounds // hi no you cant turn...</td>\n",
              "      <td>Four Stars // 4.0 // 18 Dec. 2015 // By\\n    \\...</td>\n",
              "      <td>{\"seller\"=&gt;{\"Seller_name_1\"=&gt;\"UHD WHOLESALE\", ...</td>\n",
              "    </tr>\n",
              "    <tr>\n",
              "      <th>2</th>\n",
              "      <td>348f344247b0c1a935b1223072ef9d8a</td>\n",
              "      <td>CLASSIC TOY TRAIN SET TRACK CARRIAGES LIGHT EN...</td>\n",
              "      <td>ccf</td>\n",
              "      <td>£9.99</td>\n",
              "      <td>2 new</td>\n",
              "      <td>17</td>\n",
              "      <td>2.0</td>\n",
              "      <td>3.9 out of 5 stars</td>\n",
              "      <td>Hobbies &gt; Model Trains &amp; Railway Sets &gt; Rail V...</td>\n",
              "      <td>http://www.amazon.co.uk/Classic-Train-Lights-B...</td>\n",
              "      <td>BIG CLASSIC TOY TRAIN SET TRACK CARRIAGE LIGHT...</td>\n",
              "      <td>Technical Details Manufacturer recommended age...</td>\n",
              "      <td>BIG CLASSIC TOY TRAIN SET TRACK CARRIAGE LIGHT...</td>\n",
              "      <td>http://www.amazon.co.uk/Train-With-Tracks-Batt...</td>\n",
              "      <td>What is the gauge of the track // Hi Paul.Trut...</td>\n",
              "      <td>**Highly Recommended!** // 5.0 // 26 May 2015 ...</td>\n",
              "      <td>{\"seller\"=&gt;[{\"Seller_name_1\"=&gt;\"DEAL-BOX\", \"Sel...</td>\n",
              "    </tr>\n",
              "    <tr>\n",
              "      <th>3</th>\n",
              "      <td>e12b92dbb8eaee78b22965d2a9bbbd9f</td>\n",
              "      <td>HORNBY Coach R4410A BR Hawksworth Corridor 3rd</td>\n",
              "      <td>Hornby</td>\n",
              "      <td>£39.99</td>\n",
              "      <td>NaN</td>\n",
              "      <td>1</td>\n",
              "      <td>2.0</td>\n",
              "      <td>5.0 out of 5 stars</td>\n",
              "      <td>Hobbies &gt; Model Trains &amp; Railway Sets &gt; Rail V...</td>\n",
              "      <td>NaN</td>\n",
              "      <td>Hornby 00 Gauge BR Hawksworth 3rd Class W 2107...</td>\n",
              "      <td>Technical Details Item Weight259 g Product Dim...</td>\n",
              "      <td>Hornby 00 Gauge BR Hawksworth 3rd Class W 2107...</td>\n",
              "      <td>NaN</td>\n",
              "      <td>NaN</td>\n",
              "      <td>I love it // 5.0 // 22 July 2013 // By\\n    \\n...</td>\n",
              "      <td>NaN</td>\n",
              "    </tr>\n",
              "    <tr>\n",
              "      <th>4</th>\n",
              "      <td>e33a9adeed5f36840ccc227db4682a36</td>\n",
              "      <td>Hornby 00 Gauge 0-4-0 Gildenlow Salt Co. Steam...</td>\n",
              "      <td>Hornby</td>\n",
              "      <td>£32.19</td>\n",
              "      <td>NaN</td>\n",
              "      <td>3</td>\n",
              "      <td>2.0</td>\n",
              "      <td>4.7 out of 5 stars</td>\n",
              "      <td>Hobbies &gt; Model Trains &amp; Railway Sets &gt; Rail V...</td>\n",
              "      <td>http://www.amazon.co.uk/Hornby-R6367-RailRoad-...</td>\n",
              "      <td>Product Description Hornby RailRoad 0-4-0 Gild...</td>\n",
              "      <td>Technical Details Item Weight159 g Product Dim...</td>\n",
              "      <td>Product Description Hornby RailRoad 0-4-0 Gild...</td>\n",
              "      <td>http://www.amazon.co.uk/Hornby-R2672-RailRoad-...</td>\n",
              "      <td>NaN</td>\n",
              "      <td>Birthday present // 5.0 // 14 April 2014 // By...</td>\n",
              "      <td>NaN</td>\n",
              "    </tr>\n",
              "    <tr>\n",
              "      <th>...</th>\n",
              "      <td>...</td>\n",
              "      <td>...</td>\n",
              "      <td>...</td>\n",
              "      <td>...</td>\n",
              "      <td>...</td>\n",
              "      <td>...</td>\n",
              "      <td>...</td>\n",
              "      <td>...</td>\n",
              "      <td>...</td>\n",
              "      <td>...</td>\n",
              "      <td>...</td>\n",
              "      <td>...</td>\n",
              "      <td>...</td>\n",
              "      <td>...</td>\n",
              "      <td>...</td>\n",
              "      <td>...</td>\n",
              "      <td>...</td>\n",
              "    </tr>\n",
              "    <tr>\n",
              "      <th>9995</th>\n",
              "      <td>44d6967f083825a5de36ad4865a65bcd</td>\n",
              "      <td>Batman 1966 TV Series Action Figures - The Rid...</td>\n",
              "      <td>Mattel</td>\n",
              "      <td>£22.95</td>\n",
              "      <td>5 new</td>\n",
              "      <td>3</td>\n",
              "      <td>3.0</td>\n",
              "      <td>5.0 out of 5 stars</td>\n",
              "      <td>Hobbies &gt; Collectible Figures &amp; Memorabilia &gt; ...</td>\n",
              "      <td>http://www.amazon.co.uk/Batman-1966-Series-Act...</td>\n",
              "      <td>DC 66 Batman Classic TV Series 6 Inch Riddler ...</td>\n",
              "      <td>Technical Details Item Weight136 g Product Dim...</td>\n",
              "      <td>DC 66 Batman Classic TV Series 6 Inch Riddler ...</td>\n",
              "      <td>NaN</td>\n",
              "      <td>NaN</td>\n",
              "      <td>Realistic // 5.0 // 31 Mar. 2014 // By\\n    \\n...</td>\n",
              "      <td>{\"seller\"=&gt;[{\"Seller_name_1\"=&gt;\"Star Action Fig...</td>\n",
              "    </tr>\n",
              "    <tr>\n",
              "      <th>9996</th>\n",
              "      <td>08f0747b6fc6687215ffb994c3a6fb32</td>\n",
              "      <td>Star Wars Costume, Kids Stormtrooper Costume S...</td>\n",
              "      <td>Star Wars</td>\n",
              "      <td>£39.99</td>\n",
              "      <td>NaN</td>\n",
              "      <td>1</td>\n",
              "      <td>3.0</td>\n",
              "      <td>4.0 out of 5 stars</td>\n",
              "      <td>Characters &amp; Brands &gt; Star Wars &gt; Toys</td>\n",
              "      <td>http://www.amazon.co.uk/Storm-Trooper-Costume-...</td>\n",
              "      <td>NaN</td>\n",
              "      <td>Technical Details    Additional Information AS...</td>\n",
              "      <td>NaN</td>\n",
              "      <td>http://www.amazon.co.uk/Storm-Trooper-Costume-...</td>\n",
              "      <td>NaN</td>\n",
              "      <td>... what I see my grandson us going to have fu...</td>\n",
              "      <td>NaN</td>\n",
              "    </tr>\n",
              "    <tr>\n",
              "      <th>9997</th>\n",
              "      <td>bf6cc073f8f24e6e338190fa16f6ee9d</td>\n",
              "      <td>Defiance Lawkeeper Metal Badge Prop Replica</td>\n",
              "      <td>Olde Scotland Yard Ltd.</td>\n",
              "      <td>£43.99</td>\n",
              "      <td>3 new</td>\n",
              "      <td>1</td>\n",
              "      <td>3.0</td>\n",
              "      <td>5.0 out of 5 stars</td>\n",
              "      <td>Novelty &amp; Special Use &gt; Novelty &gt; Accessories ...</td>\n",
              "      <td>NaN</td>\n",
              "      <td>*Includes 1x Badge with holder and chain *High...</td>\n",
              "      <td>Technical Details Item Weight159 g Product Dim...</td>\n",
              "      <td>*Includes 1x Badge with holder and chain *High...</td>\n",
              "      <td>http://www.amazon.co.uk/Olde-Scotland-Yard-Ltd...</td>\n",
              "      <td>NaN</td>\n",
              "      <td>Five Stars // 5.0 // 18 Dec. 2015 // By\\n    \\...</td>\n",
              "      <td>{\"seller\"=&gt;[{\"Seller_name_1\"=&gt;\"YUK\", \"Seller_p...</td>\n",
              "    </tr>\n",
              "    <tr>\n",
              "      <th>9998</th>\n",
              "      <td>cd783d0b8b44e631b9788b203eaaefae</td>\n",
              "      <td>Justice League of America Series 3 Green Lante...</td>\n",
              "      <td>DC Comics</td>\n",
              "      <td>£49.81</td>\n",
              "      <td>3 new</td>\n",
              "      <td>1</td>\n",
              "      <td>3.0</td>\n",
              "      <td>5.0 out of 5 stars</td>\n",
              "      <td>Hobbies &gt; Collectible Figures &amp; Memorabilia &gt; ...</td>\n",
              "      <td>NaN</td>\n",
              "      <td>Designed by Ed BenesIt's here - the third seri...</td>\n",
              "      <td>Technical Details Item Weight181 g Product Dim...</td>\n",
              "      <td>Designed by Ed BenesIt's here - the third seri...</td>\n",
              "      <td>NaN</td>\n",
              "      <td>NaN</td>\n",
              "      <td>The best sculpt in a while // 5.0 // 13 May 20...</td>\n",
              "      <td>{\"seller\"=&gt;[{\"Seller_name_1\"=&gt;\"Smaller World F...</td>\n",
              "    </tr>\n",
              "    <tr>\n",
              "      <th>9999</th>\n",
              "      <td>94d18e86e504bee1e392df7e5738b18a</td>\n",
              "      <td>Star Wars 1/72 Y-Wing Starfighter</td>\n",
              "      <td>Bandai</td>\n",
              "      <td>£21.20</td>\n",
              "      <td>31 new</td>\n",
              "      <td>11</td>\n",
              "      <td>3.0</td>\n",
              "      <td>4.5 out of 5 stars</td>\n",
              "      <td>Characters &amp; Brands &gt; Star Wars &gt; Toys</td>\n",
              "      <td>http://www.amazon.co.uk/Bandai-Star-Wars-Fight...</td>\n",
              "      <td>NaN</td>\n",
              "      <td>Technical Details Item Weight299 g Product Dim...</td>\n",
              "      <td>NaN</td>\n",
              "      <td>NaN</td>\n",
              "      <td>NaN</td>\n",
              "      <td>Gold leader // 5.0 // 31 Aug. 2015 // By\\n    ...</td>\n",
              "      <td>NaN</td>\n",
              "    </tr>\n",
              "  </tbody>\n",
              "</table>\n",
              "<p>10000 rows × 17 columns</p>\n",
              "</div>"
            ],
            "text/plain": [
              "                               uniq_id  ...                                            sellers\n",
              "0     eac7efa5dbd3d667f26eb3d3ab504464  ...  {\"seller\"=>[{\"Seller_name_1\"=>\"Amazon.co.uk\", ...\n",
              "1     b17540ef7e86e461d37f3ae58b7b72ac  ...  {\"seller\"=>{\"Seller_name_1\"=>\"UHD WHOLESALE\", ...\n",
              "2     348f344247b0c1a935b1223072ef9d8a  ...  {\"seller\"=>[{\"Seller_name_1\"=>\"DEAL-BOX\", \"Sel...\n",
              "3     e12b92dbb8eaee78b22965d2a9bbbd9f  ...                                                NaN\n",
              "4     e33a9adeed5f36840ccc227db4682a36  ...                                                NaN\n",
              "...                                ...  ...                                                ...\n",
              "9995  44d6967f083825a5de36ad4865a65bcd  ...  {\"seller\"=>[{\"Seller_name_1\"=>\"Star Action Fig...\n",
              "9996  08f0747b6fc6687215ffb994c3a6fb32  ...                                                NaN\n",
              "9997  bf6cc073f8f24e6e338190fa16f6ee9d  ...  {\"seller\"=>[{\"Seller_name_1\"=>\"YUK\", \"Seller_p...\n",
              "9998  cd783d0b8b44e631b9788b203eaaefae  ...  {\"seller\"=>[{\"Seller_name_1\"=>\"Smaller World F...\n",
              "9999  94d18e86e504bee1e392df7e5738b18a  ...                                                NaN\n",
              "\n",
              "[10000 rows x 17 columns]"
            ]
          },
          "metadata": {
            "tags": []
          },
          "execution_count": 50
        }
      ]
    },
    {
      "cell_type": "markdown",
      "metadata": {
        "id": "s-wjqgzfqNgj",
        "colab_type": "text"
      },
      "source": [
        "We are interested in customer_reviews column. However, the column is not clean data. It contains review title, rating, date, customer name, and review all in one scell separated by //\n",
        "\n",
        "[Read this tutorial](https://www.geeksforgeeks.org/python-pandas-split-strings-into-two-list-columns-using-str-split/)\n",
        "\n",
        "Extract the customer reviews in another dataframe and separate each of the components\n"
      ]
    },
    {
      "cell_type": "code",
      "metadata": {
        "id": "B4uL5_5aqKfH",
        "colab_type": "code",
        "outputId": "ba5b271d-35a5-44bb-8a9a-7dac227a8c61",
        "colab": {
          "base_uri": "https://localhost:8080/",
          "height": 1000
        }
      },
      "source": [
        "# your code here\n",
        "  data.dropna(inplace = True)\n",
        "  new = data[\"customer_reviews\"].str.split(\"//\", n = 4, expand = True) \n",
        "  data[\"review\"]= new[0] \n",
        "  data[\"rating\"]= new[1]\n",
        "  data[\"date\"]= new[2]\n",
        "  data[\"name\"]= new[3]\n",
        "  data[\"reviews\"]= new[4]  \n",
        "  data.drop(columns =[\"customer_reviews\"], inplace = True) \n",
        "  data"
      ],
      "execution_count": 0,
      "outputs": [
        {
          "output_type": "execute_result",
          "data": {
            "text/html": [
              "<div>\n",
              "<style scoped>\n",
              "    .dataframe tbody tr th:only-of-type {\n",
              "        vertical-align: middle;\n",
              "    }\n",
              "\n",
              "    .dataframe tbody tr th {\n",
              "        vertical-align: top;\n",
              "    }\n",
              "\n",
              "    .dataframe thead th {\n",
              "        text-align: right;\n",
              "    }\n",
              "</style>\n",
              "<table border=\"1\" class=\"dataframe\">\n",
              "  <thead>\n",
              "    <tr style=\"text-align: right;\">\n",
              "      <th></th>\n",
              "      <th>uniq_id</th>\n",
              "      <th>product_name</th>\n",
              "      <th>manufacturer</th>\n",
              "      <th>price</th>\n",
              "      <th>number_available_in_stock</th>\n",
              "      <th>number_of_reviews</th>\n",
              "      <th>number_of_answered_questions</th>\n",
              "      <th>average_review_rating</th>\n",
              "      <th>amazon_category_and_sub_category</th>\n",
              "      <th>customers_who_bought_this_item_also_bought</th>\n",
              "      <th>description</th>\n",
              "      <th>product_information</th>\n",
              "      <th>product_description</th>\n",
              "      <th>items_customers_buy_after_viewing_this_item</th>\n",
              "      <th>customer_questions_and_answers</th>\n",
              "      <th>sellers</th>\n",
              "      <th>review</th>\n",
              "      <th>rating</th>\n",
              "      <th>date</th>\n",
              "      <th>name</th>\n",
              "      <th>reviews</th>\n",
              "    </tr>\n",
              "  </thead>\n",
              "  <tbody>\n",
              "    <tr>\n",
              "      <th>0</th>\n",
              "      <td>eac7efa5dbd3d667f26eb3d3ab504464</td>\n",
              "      <td>Hornby 2014 Catalogue</td>\n",
              "      <td>Hornby</td>\n",
              "      <td>£3.42</td>\n",
              "      <td>5 new</td>\n",
              "      <td>15</td>\n",
              "      <td>1.0</td>\n",
              "      <td>4.9 out of 5 stars</td>\n",
              "      <td>Hobbies &gt; Model Trains &amp; Railway Sets &gt; Rail V...</td>\n",
              "      <td>http://www.amazon.co.uk/Hornby-R8150-Catalogue...</td>\n",
              "      <td>Product Description Hornby 2014 Catalogue Box ...</td>\n",
              "      <td>Technical Details Item Weight640 g Product Dim...</td>\n",
              "      <td>Product Description Hornby 2014 Catalogue Box ...</td>\n",
              "      <td>http://www.amazon.co.uk/Hornby-R8150-Catalogue...</td>\n",
              "      <td>Does this catalogue detail all the previous Ho...</td>\n",
              "      <td>{\"seller\"=&gt;[{\"Seller_name_1\"=&gt;\"Amazon.co.uk\", ...</td>\n",
              "      <td>Worth Buying For The Pictures Alone (As Ever)</td>\n",
              "      <td>4.0</td>\n",
              "      <td>6 April 2014</td>\n",
              "      <td>By\\n    \\n    Copnovelist\\n  \\n on 6 April 2014</td>\n",
              "      <td>Part of the magic for me growing up as a boy ...</td>\n",
              "    </tr>\n",
              "    <tr>\n",
              "      <th>2</th>\n",
              "      <td>348f344247b0c1a935b1223072ef9d8a</td>\n",
              "      <td>CLASSIC TOY TRAIN SET TRACK CARRIAGES LIGHT EN...</td>\n",
              "      <td>ccf</td>\n",
              "      <td>£9.99</td>\n",
              "      <td>2 new</td>\n",
              "      <td>17</td>\n",
              "      <td>2.0</td>\n",
              "      <td>3.9 out of 5 stars</td>\n",
              "      <td>Hobbies &gt; Model Trains &amp; Railway Sets &gt; Rail V...</td>\n",
              "      <td>http://www.amazon.co.uk/Classic-Train-Lights-B...</td>\n",
              "      <td>BIG CLASSIC TOY TRAIN SET TRACK CARRIAGE LIGHT...</td>\n",
              "      <td>Technical Details Manufacturer recommended age...</td>\n",
              "      <td>BIG CLASSIC TOY TRAIN SET TRACK CARRIAGE LIGHT...</td>\n",
              "      <td>http://www.amazon.co.uk/Train-With-Tracks-Batt...</td>\n",
              "      <td>What is the gauge of the track // Hi Paul.Trut...</td>\n",
              "      <td>{\"seller\"=&gt;[{\"Seller_name_1\"=&gt;\"DEAL-BOX\", \"Sel...</td>\n",
              "      <td>**Highly Recommended!**</td>\n",
              "      <td>5.0</td>\n",
              "      <td>26 May 2015</td>\n",
              "      <td>By\\n    \\n    Simon.B :-)\\n  \\n on 26 May 2015</td>\n",
              "      <td>Simple &amp; GREAT FUN for 5+My nephews face was ...</td>\n",
              "    </tr>\n",
              "    <tr>\n",
              "      <th>7</th>\n",
              "      <td>87bbb472ef9d90dcef140a551665c929</td>\n",
              "      <td>Hornby Santa's Express Train Set</td>\n",
              "      <td>Hornby</td>\n",
              "      <td>£69.93</td>\n",
              "      <td>3 new</td>\n",
              "      <td>36</td>\n",
              "      <td>7.0</td>\n",
              "      <td>4.3 out of 5 stars</td>\n",
              "      <td>Hobbies &gt; Model Trains &amp; Railway Sets &gt; Rail V...</td>\n",
              "      <td>http://www.amazon.co.uk/Hornby-R8221-Gauge-Tra...</td>\n",
              "      <td>Product Description Inject a bit of Hornby mag...</td>\n",
              "      <td>Technical Details Item Weight1.2 Kg Product Di...</td>\n",
              "      <td>Product Description Inject a bit of Hornby mag...</td>\n",
              "      <td>http://www.amazon.co.uk/Hornby-R1151-Caledonia...</td>\n",
              "      <td>Can this train go backwards as well as forward...</td>\n",
              "      <td>{\"seller\"=&gt;[{\"Seller_name_1\"=&gt;\"Toy Arena\", \"Se...</td>\n",
              "      <td>Beautiful set</td>\n",
              "      <td>5.0</td>\n",
              "      <td>3 Dec. 2015</td>\n",
              "      <td>By\\n    \\n    Adam Irwin\\n  \\n on 3 Dec. 2015</td>\n",
              "      <td>This has gone down very well this Christmas. ...</td>\n",
              "    </tr>\n",
              "    <tr>\n",
              "      <th>8</th>\n",
              "      <td>7e2aa2b4596a39ba852449718413d7cc</td>\n",
              "      <td>Hornby Gauge Western Express Digital Train Set...</td>\n",
              "      <td>Hornby</td>\n",
              "      <td>£235.58</td>\n",
              "      <td>4 new</td>\n",
              "      <td>1</td>\n",
              "      <td>1.0</td>\n",
              "      <td>5.0 out of 5 stars</td>\n",
              "      <td>Hobbies &gt; Model Trains &amp; Railway Sets &gt; Rail V...</td>\n",
              "      <td>http://www.amazon.co.uk/Hornby-Western-Master-...</td>\n",
              "      <td>Western Express Digital Train Set with eLink a...</td>\n",
              "      <td>Technical Details Item Weight2.3 Kg Product Di...</td>\n",
              "      <td>Western Express Digital Train Set with eLink a...</td>\n",
              "      <td>http://www.amazon.co.uk/Hornby-Western-Master-...</td>\n",
              "      <td>The description is incorrect.  the hornby site...</td>\n",
              "      <td>{\"seller\"=&gt;[{\"Seller_name_1\"=&gt;\"Amazon.co.uk\", ...</td>\n",
              "      <td>Five Stars</td>\n",
              "      <td>5.0</td>\n",
              "      <td>23 Dec. 2015</td>\n",
              "      <td>By\\n    \\n    Mr. K. Waller\\n  \\n on 23 Dec. ...</td>\n",
              "      <td>Xmas box for grandson,am sure it will be great</td>\n",
              "    </tr>\n",
              "    <tr>\n",
              "      <th>30</th>\n",
              "      <td>93a2c5173f17b896dc614ffbac0c2f2c</td>\n",
              "      <td>Hornby R3246TTS LNER 2-8-2 'Cock O' The North'...</td>\n",
              "      <td>Hornby</td>\n",
              "      <td>£139.95</td>\n",
              "      <td>3 new</td>\n",
              "      <td>1</td>\n",
              "      <td>1.0</td>\n",
              "      <td>5.0 out of 5 stars</td>\n",
              "      <td>Hobbies &gt; Model Trains &amp; Railway Sets &gt; Rail V...</td>\n",
              "      <td>http://www.amazon.co.uk/Hornby-Gauge-Master-Gl...</td>\n",
              "      <td>Suitable for the following scale(s): OO Scale</td>\n",
              "      <td>Technical Details Manufacturer recommended age...</td>\n",
              "      <td>Suitable for the following scale(s): OO Scale</td>\n",
              "      <td>http://www.amazon.co.uk/Hornby-Gauge-Master-Gl...</td>\n",
              "      <td>I'm guessing this is the railroad version, as ...</td>\n",
              "      <td>{\"seller\"=&gt;[{\"Seller_name_1\"=&gt;\"Gaugemaster\", \"...</td>\n",
              "      <td>Five Stars</td>\n",
              "      <td>5.0</td>\n",
              "      <td>26 Nov. 2014</td>\n",
              "      <td>By\\n    \\n    MKWolf\\n  \\n on 26 Nov. 2014</td>\n",
              "      <td>Great product, for the price of the TTS sound...</td>\n",
              "    </tr>\n",
              "    <tr>\n",
              "      <th>...</th>\n",
              "      <td>...</td>\n",
              "      <td>...</td>\n",
              "      <td>...</td>\n",
              "      <td>...</td>\n",
              "      <td>...</td>\n",
              "      <td>...</td>\n",
              "      <td>...</td>\n",
              "      <td>...</td>\n",
              "      <td>...</td>\n",
              "      <td>...</td>\n",
              "      <td>...</td>\n",
              "      <td>...</td>\n",
              "      <td>...</td>\n",
              "      <td>...</td>\n",
              "      <td>...</td>\n",
              "      <td>...</td>\n",
              "      <td>...</td>\n",
              "      <td>...</td>\n",
              "      <td>...</td>\n",
              "      <td>...</td>\n",
              "      <td>...</td>\n",
              "    </tr>\n",
              "    <tr>\n",
              "      <th>9915</th>\n",
              "      <td>4f955d75276bc16b1ff27dd88c7dc686</td>\n",
              "      <td>FIFA Scene It? DVD Game</td>\n",
              "      <td>Mattel</td>\n",
              "      <td>£1.59</td>\n",
              "      <td>19 new</td>\n",
              "      <td>5</td>\n",
              "      <td>1.0</td>\n",
              "      <td>4.4 out of 5 stars</td>\n",
              "      <td>Games &gt; DVD Games</td>\n",
              "      <td>http://www.amazon.co.uk/Toys-UEFA-Champions-Le...</td>\n",
              "      <td>Product Description Major new license game for...</td>\n",
              "      <td>Technical Details Item Weight1.1 Kg Product Di...</td>\n",
              "      <td>Product Description Major new license game for...</td>\n",
              "      <td>http://www.amazon.co.uk/The-Green-Board-Game-C...</td>\n",
              "      <td>Can I buy an up to date set of cards and DVD f...</td>\n",
              "      <td>{\"seller\"=&gt;[{\"Seller_name_1\"=&gt;\"Angela's Books\"...</td>\n",
              "      <td>Great game</td>\n",
              "      <td>5.0</td>\n",
              "      <td>29 Jun. 2013</td>\n",
              "      <td>By\\n    \\n    emma ocallaghan\\n  \\n on 29 Jun...</td>\n",
              "      <td>This product was fantastic, great price and a...</td>\n",
              "    </tr>\n",
              "    <tr>\n",
              "      <th>9916</th>\n",
              "      <td>a1024a94e32b1be4ff83489152f9528d</td>\n",
              "      <td>DOMINO TILES RACKS. WOODEN. SET OF FOUR.</td>\n",
              "      <td>Elysium Enterprises</td>\n",
              "      <td>£13.99</td>\n",
              "      <td>2 new</td>\n",
              "      <td>7</td>\n",
              "      <td>1.0</td>\n",
              "      <td>4.4 out of 5 stars</td>\n",
              "      <td>Games &gt; Dominoes &amp; Tile Games</td>\n",
              "      <td>http://www.amazon.co.uk/Double-Colour-Dominoes...</td>\n",
              "      <td>Handy accessory for use with Tile Games.</td>\n",
              "      <td>Technical Details Manufacturer recommended age...</td>\n",
              "      <td>Handy accessory for use with Tile Games.</td>\n",
              "      <td>http://www.amazon.co.uk/Mah-Jongg-Scrabble-Woo...</td>\n",
              "      <td>Are the rows cut at an angle,so that the tiles...</td>\n",
              "      <td>{\"seller\"=&gt;[{\"Seller_name_1\"=&gt;\"Brimtoy T/a Jes...</td>\n",
              "      <td>Tile/Domino Racks</td>\n",
              "      <td>5.0</td>\n",
              "      <td>19 Jan. 2015</td>\n",
              "      <td>By\\n    \\n    Julie A. Evans\\n  \\n on 19 Jan....</td>\n",
              "      <td>Excellent, good quality and longer than ones ...</td>\n",
              "    </tr>\n",
              "    <tr>\n",
              "      <th>9941</th>\n",
              "      <td>daea7a80ff206b03b32cedb026cdee63</td>\n",
              "      <td>John Adams New Rummikub Junior Craft Kit</td>\n",
              "      <td>Rummikub</td>\n",
              "      <td>£9.99</td>\n",
              "      <td>16 new</td>\n",
              "      <td>1</td>\n",
              "      <td>1.0</td>\n",
              "      <td>4.0 out of 5 stars</td>\n",
              "      <td>Games &gt; Dominoes &amp; Tile Games</td>\n",
              "      <td>http://www.amazon.co.uk/Pressman-Toys-0400-06D...</td>\n",
              "      <td>Product Description The object of the game is ...</td>\n",
              "      <td>Technical Details Item Weight640 g Product Dim...</td>\n",
              "      <td>Product Description The object of the game is ...</td>\n",
              "      <td>http://www.amazon.co.uk/Pressman-Toys-0400-06D...</td>\n",
              "      <td>Is this a word or a number game?  The picture ...</td>\n",
              "      <td>{\"seller\"=&gt;[{\"Seller_name_1\"=&gt;\"Fun Collectable...</td>\n",
              "      <td>Four Stars</td>\n",
              "      <td>4.0</td>\n",
              "      <td>8 Feb. 2016</td>\n",
              "      <td>By\\n    \\n    MR H BUSWELL\\n  \\n on 8 Feb. 2016</td>\n",
              "      <td>kids love it</td>\n",
              "    </tr>\n",
              "    <tr>\n",
              "      <th>9948</th>\n",
              "      <td>39a1c10da42db0ae04a0af42b53d3048</td>\n",
              "      <td>Tobar 00435 Wooden Domino Race</td>\n",
              "      <td>Tobar</td>\n",
              "      <td>£15.99</td>\n",
              "      <td>25 new</td>\n",
              "      <td>44</td>\n",
              "      <td>1.0</td>\n",
              "      <td>4.1 out of 5 stars</td>\n",
              "      <td>Games &gt; Dominoes &amp; Tile Games</td>\n",
              "      <td>http://www.amazon.co.uk/Green-Board-Games-4800...</td>\n",
              "      <td>Product Description Old fashioned version with...</td>\n",
              "      <td>Technical Details Item Weight1.6 Kg Product Di...</td>\n",
              "      <td>Product Description Old fashioned version with...</td>\n",
              "      <td>http://www.amazon.co.uk/Toys-Pure-Wooden-Domin...</td>\n",
              "      <td>what size are the dominoes? // The dominos are...</td>\n",
              "      <td>{\"seller\"=&gt;[{\"Seller_name_1\"=&gt;\"Amazon.co.uk\", ...</td>\n",
              "      <td>Hours of Fun!</td>\n",
              "      <td>4.0</td>\n",
              "      <td>30 Dec. 2009</td>\n",
              "      <td>By\\n    \\n    Miss Y. Lesbirel\\n  \\n on 30 De...</td>\n",
              "      <td>I bought this game for a lad of 5 who has jus...</td>\n",
              "    </tr>\n",
              "    <tr>\n",
              "      <th>9949</th>\n",
              "      <td>4ad0fbbcc5a6e94b298c58f16c589e6a</td>\n",
              "      <td>Dominoes- double six, plastic,black spots,spin...</td>\n",
              "      <td>A Kent &amp; Cleal game</td>\n",
              "      <td>£6.57</td>\n",
              "      <td>2 new</td>\n",
              "      <td>123</td>\n",
              "      <td>1.0</td>\n",
              "      <td>4.7 out of 5 stars</td>\n",
              "      <td>Games &gt; Dominoes &amp; Tile Games</td>\n",
              "      <td>http://www.amazon.co.uk/Cribbage-board-folding...</td>\n",
              "      <td>This is a good size set of solid, chunky doubl...</td>\n",
              "      <td>Technical Details Manufacturer recommended age...</td>\n",
              "      <td>This is a good size set of solid, chunky doubl...</td>\n",
              "      <td>http://www.amazon.co.uk/Waddingtons | http://w...</td>\n",
              "      <td>How many dominoes are in the box? // Sorry gav...</td>\n",
              "      <td>{\"seller\"=&gt;[{\"Seller_name_1\"=&gt;\"CHABRIAS LTD\", ...</td>\n",
              "      <td>Simply the best</td>\n",
              "      <td>5.0</td>\n",
              "      <td>14 Aug. 2011</td>\n",
              "      <td>By\\n    \\n    David Black\\n  \\n on 14 Aug. 2011</td>\n",
              "      <td>These are the iPod of dominoes - superbly tac...</td>\n",
              "    </tr>\n",
              "  </tbody>\n",
              "</table>\n",
              "<p>511 rows × 21 columns</p>\n",
              "</div>"
            ],
            "text/plain": [
              "                               uniq_id  ...                                            reviews\n",
              "0     eac7efa5dbd3d667f26eb3d3ab504464  ...   Part of the magic for me growing up as a boy ...\n",
              "2     348f344247b0c1a935b1223072ef9d8a  ...   Simple & GREAT FUN for 5+My nephews face was ...\n",
              "7     87bbb472ef9d90dcef140a551665c929  ...   This has gone down very well this Christmas. ...\n",
              "8     7e2aa2b4596a39ba852449718413d7cc  ...     Xmas box for grandson,am sure it will be great\n",
              "30    93a2c5173f17b896dc614ffbac0c2f2c  ...   Great product, for the price of the TTS sound...\n",
              "...                                ...  ...                                                ...\n",
              "9915  4f955d75276bc16b1ff27dd88c7dc686  ...   This product was fantastic, great price and a...\n",
              "9916  a1024a94e32b1be4ff83489152f9528d  ...   Excellent, good quality and longer than ones ...\n",
              "9941  daea7a80ff206b03b32cedb026cdee63  ...                                       kids love it\n",
              "9948  39a1c10da42db0ae04a0af42b53d3048  ...   I bought this game for a lad of 5 who has jus...\n",
              "9949  4ad0fbbcc5a6e94b298c58f16c589e6a  ...   These are the iPod of dominoes - superbly tac...\n",
              "\n",
              "[511 rows x 21 columns]"
            ]
          },
          "metadata": {
            "tags": []
          },
          "execution_count": 51
        }
      ]
    },
    {
      "cell_type": "markdown",
      "metadata": {
        "id": "9K8RZb1JqXxp",
        "colab_type": "text"
      },
      "source": [
        "Now the customer name column needs to be cleaned. Extract only the customer name and remove the By and on part in similar manner. This time you need to split by '\\n'"
      ]
    },
    {
      "cell_type": "code",
      "metadata": {
        "id": "QsxPN-uUqXPl",
        "colab_type": "code",
        "outputId": "b8d73b62-79e8-4646-e008-591d1e0f111c",
        "colab": {
          "base_uri": "https://localhost:8080/",
          "height": 230
        }
      },
      "source": [
        "# your code here\n",
        "import pandas as pd\n",
        "df=data[\"name\"].str.split(\"\\n\")\n",
        "df\n"
      ],
      "execution_count": 0,
      "outputs": [
        {
          "output_type": "execute_result",
          "data": {
            "text/plain": [
              "0       [ By,     ,     Copnovelist,   ,  on 6 April 2...\n",
              "2       [ By,     ,     Simon.B :-),   ,  on 26 May 20...\n",
              "7       [ By,     ,     Adam Irwin,   ,  on 3 Dec. 2015 ]\n",
              "8       [ By,     ,     Mr. K. Waller,   ,  on 23 Dec....\n",
              "30         [ By,     ,     MKWolf,   ,  on 26 Nov. 2014 ]\n",
              "                              ...                        \n",
              "9915    [ By,     ,     emma ocallaghan,   ,  on 29 Ju...\n",
              "9916    [ By,     ,     Julie A. Evans,   ,  on 19 Jan...\n",
              "9941    [ By,     ,     MR H BUSWELL,   ,  on 8 Feb. 2...\n",
              "9948    [ By,     ,     Miss Y. Lesbirel,   ,  on 30 D...\n",
              "9949    [ By,     ,     David Black,   ,  on 14 Aug. 2...\n",
              "Name: name, Length: 511, dtype: object"
            ]
          },
          "metadata": {
            "tags": []
          },
          "execution_count": 52
        }
      ]
    },
    {
      "cell_type": "markdown",
      "metadata": {
        "id": "VJ-aUKqeqnHq",
        "colab_type": "text"
      },
      "source": [
        "Create another column nlpreview and copy the review column as it is\n",
        "apply removal of punctuation and extract all words as a list of words. \n",
        "\n",
        "**Hint**: You may have to use [apply method](https://pandas.pydata.org/pandas-docs/stable/reference/api/pandas.Series.apply.html) on dataframe series with a lambda function that does your tokenization etc. You can use sentence/word tokenizer but you will get extra credit if you use RegExpTokenizer. [Documentation for help](https://kite.com/python/docs/nltk.tokenize)"
      ]
    },
    {
      "cell_type": "code",
      "metadata": {
        "id": "eOOfuvLwXQAv",
        "colab_type": "code",
        "outputId": "de3f9f4c-46f6-4d24-ac65-4c27fd9dc156",
        "colab": {
          "base_uri": "https://localhost:8080/",
          "height": 70
        }
      },
      "source": [
        "import nltk\n",
        "nltk.download('punkt')"
      ],
      "execution_count": 0,
      "outputs": [
        {
          "output_type": "stream",
          "text": [
            "[nltk_data] Downloading package punkt to /root/nltk_data...\n",
            "[nltk_data]   Unzipping tokenizers/punkt.zip.\n"
          ],
          "name": "stdout"
        },
        {
          "output_type": "execute_result",
          "data": {
            "text/plain": [
              "True"
            ]
          },
          "metadata": {
            "tags": []
          },
          "execution_count": 65
        }
      ]
    },
    {
      "cell_type": "code",
      "metadata": {
        "id": "9_4fIVr0rVgm",
        "colab_type": "code",
        "outputId": "79907c5f-4b8d-435a-fa97-b55321718f44",
        "colab": {
          "base_uri": "https://localhost:8080/",
          "height": 34
        }
      },
      "source": [
        "# your code here\n",
        "from nltk.tokenize import word_tokenize\n",
        "from nltk.tokenize import wordpunct_tokenize\n",
        "nlppreview=data[\"review\"]\n",
        "nltk.word_tokenize(nlppreview[0])\n",
        "\n",
        "\n"
      ],
      "execution_count": 0,
      "outputs": [
        {
          "output_type": "execute_result",
          "data": {
            "text/plain": [
              "['Worth', 'Buying', 'For', 'The', 'Pictures', 'Alone', '(', 'As', 'Ever', ')']"
            ]
          },
          "metadata": {
            "tags": []
          },
          "execution_count": 91
        }
      ]
    },
    {
      "cell_type": "markdown",
      "metadata": {
        "id": "1_gzdqFxrWyW",
        "colab_type": "text"
      },
      "source": [
        "Remove stopwords in the nlpreview column"
      ]
    },
    {
      "cell_type": "code",
      "metadata": {
        "id": "pFEoD018i5Ec",
        "colab_type": "code",
        "outputId": "f8305c3d-70a6-46da-edc5-5309e1cbfbc9",
        "colab": {
          "base_uri": "https://localhost:8080/",
          "height": 54
        }
      },
      "source": [
        "print(stopwords.words('english'))"
      ],
      "execution_count": 0,
      "outputs": [
        {
          "output_type": "stream",
          "text": [
            "['i', 'me', 'my', 'myself', 'we', 'our', 'ours', 'ourselves', 'you', \"you're\", \"you've\", \"you'll\", \"you'd\", 'your', 'yours', 'yourself', 'yourselves', 'he', 'him', 'his', 'himself', 'she', \"she's\", 'her', 'hers', 'herself', 'it', \"it's\", 'its', 'itself', 'they', 'them', 'their', 'theirs', 'themselves', 'what', 'which', 'who', 'whom', 'this', 'that', \"that'll\", 'these', 'those', 'am', 'is', 'are', 'was', 'were', 'be', 'been', 'being', 'have', 'has', 'had', 'having', 'do', 'does', 'did', 'doing', 'a', 'an', 'the', 'and', 'but', 'if', 'or', 'because', 'as', 'until', 'while', 'of', 'at', 'by', 'for', 'with', 'about', 'against', 'between', 'into', 'through', 'during', 'before', 'after', 'above', 'below', 'to', 'from', 'up', 'down', 'in', 'out', 'on', 'off', 'over', 'under', 'again', 'further', 'then', 'once', 'here', 'there', 'when', 'where', 'why', 'how', 'all', 'any', 'both', 'each', 'few', 'more', 'most', 'other', 'some', 'such', 'no', 'nor', 'not', 'only', 'own', 'same', 'so', 'than', 'too', 'very', 's', 't', 'can', 'will', 'just', 'don', \"don't\", 'should', \"should've\", 'now', 'd', 'll', 'm', 'o', 're', 've', 'y', 'ain', 'aren', \"aren't\", 'couldn', \"couldn't\", 'didn', \"didn't\", 'doesn', \"doesn't\", 'hadn', \"hadn't\", 'hasn', \"hasn't\", 'haven', \"haven't\", 'isn', \"isn't\", 'ma', 'mightn', \"mightn't\", 'mustn', \"mustn't\", 'needn', \"needn't\", 'shan', \"shan't\", 'shouldn', \"shouldn't\", 'wasn', \"wasn't\", 'weren', \"weren't\", 'won', \"won't\", 'wouldn', \"wouldn't\"]\n"
          ],
          "name": "stdout"
        }
      ]
    },
    {
      "cell_type": "code",
      "metadata": {
        "id": "ZZtMwBlurZJH",
        "colab_type": "code",
        "outputId": "f9014431-8eb4-4a35-a74f-17803708434c",
        "colab": {
          "base_uri": "https://localhost:8080/",
          "height": 461
        }
      },
      "source": [
        "# your code here\n",
        "from nltk.corpus import stopwords\n",
        "nltk.download('stopwords')\n",
        "x=nlppreview[0]\n",
        "nlp_without_sw = [word for word in x if not word in stopwords.words()]\n",
        "nlp_without_sw\n"
      ],
      "execution_count": 0,
      "outputs": [
        {
          "output_type": "stream",
          "text": [
            "[nltk_data] Downloading package stopwords to /root/nltk_data...\n",
            "[nltk_data]   Package stopwords is already up-to-date!\n"
          ],
          "name": "stdout"
        },
        {
          "output_type": "execute_result",
          "data": {
            "text/plain": [
              "['W',\n",
              " 'r',\n",
              " ' ',\n",
              " 'B',\n",
              " 'g',\n",
              " ' ',\n",
              " 'F',\n",
              " 'r',\n",
              " ' ',\n",
              " 'T',\n",
              " ' ',\n",
              " 'P',\n",
              " 'r',\n",
              " ' ',\n",
              " 'A',\n",
              " ' ',\n",
              " '(',\n",
              " 'A',\n",
              " ' ',\n",
              " 'E',\n",
              " 'r',\n",
              " ')',\n",
              " ' ']"
            ]
          },
          "metadata": {
            "tags": []
          },
          "execution_count": 95
        }
      ]
    },
    {
      "cell_type": "markdown",
      "metadata": {
        "id": "DSwbA0yArc8o",
        "colab_type": "text"
      },
      "source": [
        "Use stemming/lemmatization. There are several options, so [read the docs](https://www.datacamp.com/community/tutorials/stemming-lemmatization-python)."
      ]
    },
    {
      "cell_type": "code",
      "metadata": {
        "id": "Ms9UsQcjseWd",
        "colab_type": "code",
        "colab": {}
      },
      "source": [
        "# your code here"
      ],
      "execution_count": 0,
      "outputs": []
    },
    {
      "cell_type": "markdown",
      "metadata": {
        "id": "35qEoH5QsN68",
        "colab_type": "text"
      },
      "source": [
        "Find the first 100 most important words, i.e. most frequently used words and plot them using FreqDist plot in nltk. See the sample colab file given during class. Note your observations."
      ]
    },
    {
      "cell_type": "code",
      "metadata": {
        "id": "6CgoOWcNr3a9",
        "colab_type": "code",
        "colab": {}
      },
      "source": [
        "# your code here"
      ],
      "execution_count": 0,
      "outputs": []
    },
    {
      "cell_type": "markdown",
      "metadata": {
        "id": "4zIyAU3br2wx",
        "colab_type": "text"
      },
      "source": [
        "Create another column called TFIDF and use the nlpreview to construct tfidf in this newly created column"
      ]
    },
    {
      "cell_type": "code",
      "metadata": {
        "id": "-NxDlX_Osgyu",
        "colab_type": "code",
        "colab": {}
      },
      "source": [
        "# your code here"
      ],
      "execution_count": 0,
      "outputs": []
    },
    {
      "cell_type": "markdown",
      "metadata": {
        "id": "RSd6jz2YskxQ",
        "colab_type": "text"
      },
      "source": [
        "Find the top 100 words with maximum TF IDF score and plot it. Note your observations and see how different it is from the Top 100 highest frequency words."
      ]
    },
    {
      "cell_type": "code",
      "metadata": {
        "id": "D2t-S1P5tCUy",
        "colab_type": "code",
        "colab": {}
      },
      "source": [
        "# your code here"
      ],
      "execution_count": 0,
      "outputs": []
    },
    {
      "cell_type": "markdown",
      "metadata": {
        "id": "unOAXitFtDp6",
        "colab_type": "text"
      },
      "source": [
        "Use KMeans clustering to apply clustering to this TFIDF column. Find optimal number of clusters using elbow plot and note your observations for the optimal clusters."
      ]
    },
    {
      "cell_type": "code",
      "metadata": {
        "id": "-3VeNhlhtUe_",
        "colab_type": "code",
        "colab": {}
      },
      "source": [
        "# Your code here"
      ],
      "execution_count": 0,
      "outputs": []
    },
    {
      "cell_type": "markdown",
      "metadata": {
        "id": "gQvXpTJnI5LP",
        "colab_type": "text"
      },
      "source": [
        "# visualize your clusters\n",
        " Let us use word cloud visualization."
      ]
    },
    {
      "cell_type": "code",
      "metadata": {
        "id": "LAH1qQV8I4fr",
        "colab_type": "code",
        "colab": {}
      },
      "source": [
        "from wordcloud import WordCloud\n",
        "import matplotlib.pyplot as plt \n",
        "def plotwordcloud(words):\n",
        "  wordcloud = WordCloud(width=800, height=500, random_state=21, max_font_size=110).generate(words) \n",
        "  plt.figure(figsize=(10, 7)) \n",
        "  plt.imshow(wordcloud, interpolation=\"bilinear\") \n",
        "  plt.axis('off') \n",
        "  plt.show()"
      ],
      "execution_count": 0,
      "outputs": []
    },
    {
      "cell_type": "code",
      "metadata": {
        "id": "_81bmQX2JMYj",
        "colab_type": "code",
        "colab": {}
      },
      "source": [
        "# your code here to call plotwordcloud for concatenated word set of each cluster. You need to find all words of a cluster and create a set."
      ],
      "execution_count": 0,
      "outputs": []
    },
    {
      "cell_type": "markdown",
      "metadata": {
        "id": "bgAS3ungH5Tn",
        "colab_type": "text"
      },
      "source": [
        "#Sentiment Analysis\n",
        "Ideally it is difficult to do sentiment analysis without having labeled data.\n",
        "\n",
        "We can do following:\n",
        "1. Use the rating column and rate 1,2 as negative and 4,5 as positive and reject 3 for now. Then we do 70/30 split of our data into train/test set \n",
        "2. Use a lexicon of positive and negative words and calculate score of each review using high score for positive and low score for negative review and pick a threshold above which a review is positive. We can find known positive or negative words in a review and sum their scores up to get a final score.\n",
        "\n",
        "However, note that text is tricky:\n",
        "\n",
        "E.g. consider a sentence in review of a smart watch: *The product is not only good but also does not spoil in water.*\n",
        "\n",
        "It is a positive review but has lot of negaive words not, spoil etc. In these cases one has to go for bi or tri grams, e.g. *not only good* is a positive trigram. *does not spoil* is another one. However adding trigrams make your problem tough. If a review has 10 words, it will have 7 trigrams and 8 bigrams in it, making the features more.\n"
      ]
    },
    {
      "cell_type": "code",
      "metadata": {
        "id": "93_GT34eOX4q",
        "colab_type": "code",
        "colab": {}
      },
      "source": [
        "# create a column sentiment with 0 meaning negative and 1 meaning positive and construct this based on the rule in point 1 above."
      ],
      "execution_count": 0,
      "outputs": []
    },
    {
      "cell_type": "markdown",
      "metadata": {
        "id": "jtIjQYwAPxBz",
        "colab_type": "text"
      },
      "source": [
        "Read [this stack overflow post](https://stackoverflow.com/questions/47778403/computing-tf-idf-on-the-whole-dataset-or-only-on-training-data). It tells you how to create you train and test data."
      ]
    },
    {
      "cell_type": "code",
      "metadata": {
        "id": "6MG8NhOPOsEA",
        "colab_type": "code",
        "colab": {}
      },
      "source": [
        "# shuffle and split your data in train test (70/30) with tfidf as your features and sentiment as your labels"
      ],
      "execution_count": 0,
      "outputs": []
    },
    {
      "cell_type": "code",
      "metadata": {
        "id": "e9evZRPeQMG_",
        "colab_type": "code",
        "colab": {}
      },
      "source": [
        "# plot word clourds for positive and negative training examples"
      ],
      "execution_count": 0,
      "outputs": []
    },
    {
      "cell_type": "code",
      "metadata": {
        "id": "1X1gPIlIO1qj",
        "colab_type": "code",
        "colab": {}
      },
      "source": [
        "# use and supervised classification approach of your choice and report your accuracy"
      ],
      "execution_count": 0,
      "outputs": []
    },
    {
      "cell_type": "markdown",
      "metadata": {
        "id": "cfuipPcaPHET",
        "colab_type": "text"
      },
      "source": [
        "Evaluate your model by trying your own reviews.\n",
        "\n",
        "Process will be:\n",
        "1. Calculate tf-idf of the review using [transform() method](https://stackoverflow.com/questions/47778403/computing-tf-idf-on-the-whole-dataset-or-only-on-training-data)\n",
        "2. run your model on the tf-idf vector and see the sentiment predicted."
      ]
    },
    {
      "cell_type": "code",
      "metadata": {
        "id": "8rZl-4_4O_Y8",
        "colab_type": "code",
        "colab": {}
      },
      "source": [
        "# try your model on new data ie. your own cooked up data say some review that you write"
      ],
      "execution_count": 0,
      "outputs": []
    },
    {
      "cell_type": "markdown",
      "metadata": {
        "id": "U0hETGM9QS5J",
        "colab_type": "text"
      },
      "source": [
        "# Approach 2 - Lexicon way\n",
        "We will try the lexicons. Rather than doing the work on our own we shall use built in lexicons in NLTK.\n",
        "You can [read about vader here](http://datameetsmedia.com/staging/3908/vader-sentiment-analysis-explained/)"
      ]
    },
    {
      "cell_type": "code",
      "metadata": {
        "id": "3pKCRViTQ2_x",
        "colab_type": "code",
        "colab": {}
      },
      "source": [
        "import nltk\n",
        "nltk.download('vader_lexicon')\n",
        "from nltk.sentiment.vader import SentimentIntensityAnalyzer "
      ],
      "execution_count": 0,
      "outputs": []
    },
    {
      "cell_type": "code",
      "metadata": {
        "id": "YiIcW7Z0RAAz",
        "colab_type": "code",
        "colab": {}
      },
      "source": [
        "sentiment_analyzer = SentimentIntensityAnalyzer()\n",
        "scores = []\n",
        "# for each review in your dataframe (here we need full review and not bother about removing stopwords, punctuations etc. In fact vader needs them!)\n",
        "# your loop statement e.g., for sentence in ????\n",
        "     #print(sentence)\n",
        "     sentiment_score = sentiment_analyzer.polarity_scores(sentence)\n",
        "     scores.append(sentiment_score)\n",
        "\n",
        "# let us see first 10 results. You can change this code to see more.\n",
        "for sentiment_score in scores[:10]:\n",
        "  for score in sentiment_score:\n",
        "         print('{0}: {1},' .format(score, sentiment_score[score]), end='')"
      ],
      "execution_count": 0,
      "outputs": []
    },
    {
      "cell_type": "markdown",
      "metadata": {
        "id": "RLuyMquVRb0D",
        "colab_type": "text"
      },
      "source": [
        "You can analyze the outcomes. See what threshold you want to pick!"
      ]
    }
  ]
}